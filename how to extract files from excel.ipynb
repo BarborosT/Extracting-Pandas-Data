{
 "cells": [
  {
   "cell_type": "code",
   "execution_count": 4,
   "metadata": {},
   "outputs": [
    {
     "name": "stdout",
     "output_type": "stream",
     "text": [
      "   Unnamed: 0       Çalışan         Departman  Yaş     Semt  Maaş\n",
      "0           1  Ahmet Yılmaz       Bilgi İŞlem   30  Kadıköy  5000\n",
      "1           2    Can Ertürk           Muasebe   25    Tuzla  4200\n",
      "2           3  Hasan Kokmaz       Bilgi İşlem   32  Maltepe  3000\n",
      "3           4   Cenk Saymaz  İnsan Kaynakları   31  Kadıköy  5000\n",
      "4           5     Ali Turan       Bilgi İŞlem   32    Tuzla  4200\n",
      "5           6   Rıza Ertürk           Muasebe   33  Maltepe  3000\n",
      "6           7   Mustafa Can       Bilgi İşlem   34  Kadıköy  5000\n"
     ]
    }
   ],
   "source": [
    "import pandas as pd\n",
    "\n",
    "personeller = pd.read_excel(\"Çalışan.xlsx\") #Biz burda bu dosyayı excel üzerinden elde ettik.\n",
    "\n",
    "df = pd.DataFrame(personeller)\n",
    "result = df\n",
    "print(result)"
   ]
  },
  {
   "cell_type": "code",
   "execution_count": 5,
   "metadata": {},
   "outputs": [
    {
     "name": "stdout",
     "output_type": "stream",
     "text": [
      "29400\n"
     ]
    }
   ],
   "source": [
    "result = df[\"Maaş\"].sum() #6 kişinin maaş toplamı\n",
    "print(result)"
   ]
  },
  {
   "cell_type": "code",
   "execution_count": 7,
   "metadata": {},
   "outputs": [
    {
     "name": "stdout",
     "output_type": "stream",
     "text": [
      "{'Bilgi İŞlem': [0, 4], 'Bilgi İşlem': [2, 6], 'Muasebe': [1, 5], 'İnsan Kaynakları': [3]}\n"
     ]
    }
   ],
   "source": [
    "result = df.groupby(\"Departman\").groups\n",
    "print(result)"
   ]
  },
  {
   "cell_type": "code",
   "execution_count": 8,
   "metadata": {},
   "outputs": [
    {
     "name": "stdout",
     "output_type": "stream",
     "text": [
      "{('Bilgi İŞlem', 'Kadıköy'): [0], ('Bilgi İŞlem', 'Tuzla'): [4], ('Bilgi İşlem', 'Kadıköy'): [6], ('Bilgi İşlem', 'Maltepe'): [2], ('Muasebe', 'Maltepe'): [5], ('Muasebe', 'Tuzla'): [1], ('İnsan Kaynakları', 'Kadıköy'): [3]}\n"
     ]
    }
   ],
   "source": [
    "result = df.groupby([\"Departman\",\"Semt\"]).groups\n",
    "print(result)  "
   ]
  },
  {
   "cell_type": "code",
   "execution_count": 11,
   "metadata": {},
   "outputs": [
    {
     "name": "stdout",
     "output_type": "stream",
     "text": [
      "Kadıköy\n",
      "   Unnamed: 0       Çalışan         Departman  Yaş     Semt  Maaş\n",
      "0           1  Ahmet Yılmaz       Bilgi İŞlem   30  Kadıköy  5000\n",
      "3           4   Cenk Saymaz  İnsan Kaynakları   31  Kadıköy  5000\n",
      "6           7   Mustafa Can       Bilgi İşlem   34  Kadıköy  5000\n",
      "Maltepe\n",
      "   Unnamed: 0       Çalışan    Departman  Yaş     Semt  Maaş\n",
      "2           3  Hasan Kokmaz  Bilgi İşlem   32  Maltepe  3000\n",
      "5           6   Rıza Ertürk      Muasebe   33  Maltepe  3000\n",
      "Tuzla\n",
      "   Unnamed: 0     Çalışan    Departman  Yaş   Semt  Maaş\n",
      "1           2  Can Ertürk      Muasebe   25  Tuzla  4200\n",
      "4           5   Ali Turan  Bilgi İŞlem   32  Tuzla  4200\n"
     ]
    }
   ],
   "source": [
    "semtler = df.groupby(\"Semt\")\n",
    "\n",
    "for name, group in semtler:\n",
    "    print(name)\n",
    "    print(group)"
   ]
  },
  {
   "cell_type": "code",
   "execution_count": 14,
   "metadata": {},
   "outputs": [
    {
     "name": "stdout",
     "output_type": "stream",
     "text": [
      "Bilgi İŞlem\n",
      "   Unnamed: 0       Çalışan    Departman  Yaş     Semt  Maaş\n",
      "0           1  Ahmet Yılmaz  Bilgi İŞlem   30  Kadıköy  5000\n",
      "4           5     Ali Turan  Bilgi İŞlem   32    Tuzla  4200\n",
      "Bilgi İşlem\n",
      "   Unnamed: 0       Çalışan    Departman  Yaş     Semt  Maaş\n",
      "2           3  Hasan Kokmaz  Bilgi İşlem   32  Maltepe  3000\n",
      "6           7   Mustafa Can  Bilgi İşlem   34  Kadıköy  5000\n",
      "Muasebe\n",
      "   Unnamed: 0      Çalışan Departman  Yaş     Semt  Maaş\n",
      "1           2   Can Ertürk   Muasebe   25    Tuzla  4200\n",
      "5           6  Rıza Ertürk   Muasebe   33  Maltepe  3000\n",
      "İnsan Kaynakları\n",
      "   Unnamed: 0      Çalışan         Departman  Yaş     Semt  Maaş\n",
      "3           4  Cenk Saymaz  İnsan Kaynakları   31  Kadıköy  5000\n"
     ]
    }
   ],
   "source": [
    "semtler = df.groupby(\"Semt\")\n",
    "\n",
    "for name, group in df.groupby(\"Departman\"):\n",
    "    print(name)\n",
    "    print(group)"
   ]
  },
  {
   "cell_type": "code",
   "execution_count": 20,
   "metadata": {},
   "outputs": [
    {
     "name": "stdout",
     "output_type": "stream",
     "text": [
      "                  Unnamed: 0  Yaş  Maaş\n",
      "Departman                              \n",
      "Bilgi İŞlem                3   31  4600\n",
      "Bilgi İşlem                5   33  4000\n",
      "Muasebe                    4   29  3600\n",
      "İnsan Kaynakları           4   31  5000\n"
     ]
    }
   ],
   "source": [
    "result = df.groupby(\"Semt\").get_group(\"Kadıköy\")\n",
    "result = df.groupby(\"Departman\").get_group(\"Muasebe\")\n",
    "result = df.groupby(\"Departman\").sum()\n",
    "print(result)"
   ]
  },
  {
   "cell_type": "code",
   "execution_count": 23,
   "metadata": {},
   "outputs": [
    {
     "name": "stdout",
     "output_type": "stream",
     "text": [
      "                  Unnamed: 0  Yaş  Maaş\n",
      "Departman                              \n",
      "Bilgi İŞlem                3   31  4600\n",
      "Bilgi İşlem                5   33  4000\n",
      "Muasebe                    4   29  3600\n",
      "İnsan Kaynakları           4   31  5000\n"
     ]
    }
   ],
   "source": [
    "result = df.groupby(\"Departman\").mean()\n",
    "print(result)"
   ]
  },
  {
   "cell_type": "code",
   "execution_count": 22,
   "metadata": {},
   "outputs": [
    {
     "name": "stdout",
     "output_type": "stream",
     "text": [
      "                  Unnamed: 0  Yaş  Maaş\n",
      "Departman                              \n",
      "Bilgi İŞlem                6   62  9200\n",
      "Bilgi İşlem               10   66  8000\n",
      "Muasebe                    8   58  7200\n",
      "İnsan Kaynakları           4   31  5000\n"
     ]
    }
   ],
   "source": [
    "result = df.groupby(\"Departman\").sum()\n",
    "print(result)"
   ]
  },
  {
   "cell_type": "code",
   "execution_count": 24,
   "metadata": {},
   "outputs": [
    {
     "name": "stdout",
     "output_type": "stream",
     "text": [
      "Departman\n",
      "Bilgi İŞlem         4600\n",
      "Bilgi İşlem         4000\n",
      "Muasebe             3600\n",
      "İnsan Kaynakları    5000\n",
      "Name: Maaş, dtype: int64\n"
     ]
    }
   ],
   "source": [
    "result = df.groupby(\"Departman\")[\"Maaş\"].mean()\n",
    "print(result)"
   ]
  },
  {
   "cell_type": "code",
   "execution_count": 25,
   "metadata": {},
   "outputs": [
    {
     "name": "stdout",
     "output_type": "stream",
     "text": [
      "Semt\n",
      "Kadıköy    31.666667\n",
      "Maltepe    32.500000\n",
      "Tuzla      28.500000\n",
      "Name: Yaş, dtype: float64\n"
     ]
    }
   ],
   "source": [
    "result = df.groupby(\"Semt\")[\"Yaş\"].mean()\n",
    "print(result)"
   ]
  },
  {
   "cell_type": "code",
   "execution_count": 27,
   "metadata": {},
   "outputs": [
    {
     "name": "stdout",
     "output_type": "stream",
     "text": [
      "Semt\n",
      "Kadıköy    3\n",
      "Maltepe    2\n",
      "Tuzla      2\n",
      "Name: Çalışan, dtype: int64\n"
     ]
    }
   ],
   "source": [
    "result = df.groupby(\"Semt\")[\"Çalışan\"].count()\n",
    "print(result)"
   ]
  },
  {
   "cell_type": "code",
   "execution_count": 28,
   "metadata": {},
   "outputs": [
    {
     "name": "stdout",
     "output_type": "stream",
     "text": [
      "Departman\n",
      "Bilgi İŞlem         32\n",
      "Bilgi İşlem         34\n",
      "Muasebe             33\n",
      "İnsan Kaynakları    31\n",
      "Name: Yaş, dtype: int64\n"
     ]
    }
   ],
   "source": [
    "result = df.groupby(\"Departman\")[\"Yaş\"].max() #max yaş sınırı kaçtır.\n",
    "print(result)"
   ]
  },
  {
   "cell_type": "code",
   "execution_count": 29,
   "metadata": {},
   "outputs": [
    {
     "name": "stdout",
     "output_type": "stream",
     "text": [
      "Departman\n",
      "Bilgi İŞlem         4200\n",
      "Bilgi İşlem         3000\n",
      "Muasebe             3000\n",
      "İnsan Kaynakları    5000\n",
      "Name: Maaş, dtype: int64\n"
     ]
    }
   ],
   "source": [
    "result = df.groupby(\"Departman\")[\"Maaş\"].min()\n",
    "print(result)"
   ]
  },
  {
   "cell_type": "code",
   "execution_count": 32,
   "metadata": {},
   "outputs": [
    {
     "name": "stdout",
     "output_type": "stream",
     "text": [
      "4200\n"
     ]
    }
   ],
   "source": [
    "result = df.groupby(\"Departman\")[\"Maaş\"].max()[\"Muasebe\"]\n",
    "print(result)"
   ]
  },
  {
   "cell_type": "code",
   "execution_count": 33,
   "metadata": {},
   "outputs": [
    {
     "name": "stdout",
     "output_type": "stream",
     "text": [
      "                   sum  mean  amax  amin\n",
      "Departman                               \n",
      "Bilgi İŞlem       9200  4600  5000  4200\n",
      "Bilgi İşlem       8000  4000  5000  3000\n",
      "Muasebe           7200  3600  4200  3000\n",
      "İnsan Kaynakları  5000  5000  5000  5000\n"
     ]
    }
   ],
   "source": [
    "import numpy as np \n",
    "\n",
    "result = df.groupby(\"Departman\")[\"Maaş\"].agg([np.sum,np.mean,np.max,np.min])\n",
    "print(result)"
   ]
  },
  {
   "cell_type": "code",
   "execution_count": null,
   "metadata": {},
   "outputs": [],
   "source": [
    " "
   ]
  }
 ],
 "metadata": {
  "kernelspec": {
   "display_name": "Python 3",
   "language": "python",
   "name": "python3"
  },
  "language_info": {
   "codemirror_mode": {
    "name": "ipython",
    "version": 3
   },
   "file_extension": ".py",
   "mimetype": "text/x-python",
   "name": "python",
   "nbconvert_exporter": "python",
   "pygments_lexer": "ipython3",
   "version": "3.8.5"
  }
 },
 "nbformat": 4,
 "nbformat_minor": 4
}
