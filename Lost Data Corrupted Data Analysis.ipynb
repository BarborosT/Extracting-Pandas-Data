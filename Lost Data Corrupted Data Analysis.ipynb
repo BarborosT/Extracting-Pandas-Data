{
 "cells": [
  {
   "cell_type": "code",
   "execution_count": 23,
   "metadata": {},
   "outputs": [
    {
     "name": "stdout",
     "output_type": "stream",
     "text": [
      "   column1  column2  column3\n",
      "a     86.0     73.0     43.0\n",
      "b     83.0     12.0     78.0\n",
      "c      NaN      NaN      NaN\n",
      "d      NaN      NaN      NaN\n",
      "e     32.0     21.0     73.0\n",
      "f     48.0     16.0     25.0\n",
      "g      NaN      NaN      NaN\n",
      "h     70.0     86.0     81.0\n"
     ]
    }
   ],
   "source": [
    "import pandas as pd\n",
    "import numpy as np\n",
    "\n",
    "data = np.random.randint(10,100,15).reshape(5,3)\n",
    "\n",
    "df =pd.DataFrame(data, index =['a','b','e','f','h'],columns=['column1','column2','column3'])\n",
    "\n",
    "df = df.reindex(['a','b','c','d','e','f','g','h'])\n",
    "\n",
    "result = df\n",
    "print(result)"
   ]
  },
  {
   "cell_type": "code",
   "execution_count": 22,
   "metadata": {},
   "outputs": [
    {
     "name": "stdout",
     "output_type": "stream",
     "text": [
      "   column2  column3  Column4\n",
      "a     19.0     93.0      NaN\n",
      "b     35.0     41.0     30.0\n",
      "c      NaN      NaN      NaN\n",
      "d      NaN      NaN     51.0\n",
      "e     78.0     13.0      NaN\n",
      "f     24.0     17.0     40.0\n",
      "g      NaN      NaN      NaN\n",
      "h     26.0     30.0     45.0\n"
     ]
    }
   ],
   "source": [
    "result = df.drop(\"column1\",axis = 1) #colum 1 ortadan kaldırıyor\n",
    "print(result)"
   ]
  },
  {
   "cell_type": "code",
   "execution_count": 21,
   "metadata": {},
   "outputs": [
    {
     "name": "stdout",
     "output_type": "stream",
     "text": [
      "   column3  Column4\n",
      "a     93.0      NaN\n",
      "b     41.0     30.0\n",
      "c      NaN      NaN\n",
      "d      NaN     51.0\n",
      "e     13.0      NaN\n",
      "f     17.0     40.0\n",
      "g      NaN      NaN\n",
      "h     30.0     45.0\n"
     ]
    }
   ],
   "source": [
    "result = df.drop([\"column1\",\"column2\"], axis = 1)\n",
    "print(result)"
   ]
  },
  {
   "cell_type": "code",
   "execution_count": 20,
   "metadata": {},
   "outputs": [
    {
     "name": "stdout",
     "output_type": "stream",
     "text": [
      "   column1  column2  column3  Column4\n",
      "b     86.0     35.0     41.0     30.0\n",
      "c      NaN      NaN      NaN      NaN\n",
      "d      NaN      NaN      NaN     51.0\n",
      "e     17.0     78.0     13.0      NaN\n",
      "f     58.0     24.0     17.0     40.0\n",
      "g      NaN      NaN      NaN      NaN\n",
      "h     95.0     26.0     30.0     45.0\n"
     ]
    }
   ],
   "source": [
    "result = df.drop('a', axis =0) #a satırı silmekistersek\n",
    "print(result)  #birçok satır silmek istersen ['a','b','c','d']"
   ]
  },
  {
   "cell_type": "code",
   "execution_count": 24,
   "metadata": {},
   "outputs": [
    {
     "name": "stdout",
     "output_type": "stream",
     "text": [
      "   column1  column2  column3\n",
      "a    False    False    False\n",
      "b    False    False    False\n",
      "c     True     True     True\n",
      "d     True     True     True\n",
      "e    False    False    False\n",
      "f    False    False    False\n",
      "g     True     True     True\n",
      "h    False    False    False\n"
     ]
    }
   ],
   "source": [
    "result = df.isnull()  #değer var ise True yok ise False\n",
    "print(result)"
   ]
  },
  {
   "cell_type": "code",
   "execution_count": 18,
   "metadata": {},
   "outputs": [
    {
     "name": "stdout",
     "output_type": "stream",
     "text": [
      "   column1  column2  column3  Column4\n",
      "a     True     True     True    False\n",
      "b     True     True     True     True\n",
      "c    False    False    False    False\n",
      "d    False    False    False     True\n",
      "e     True     True     True    False\n",
      "f     True     True     True     True\n",
      "g    False    False    False    False\n",
      "h     True     True     True     True\n"
     ]
    }
   ],
   "source": [
    "result = df.notnull()  # Tam zıttı değer \n",
    "print(result)"
   ]
  },
  {
   "cell_type": "code",
   "execution_count": 26,
   "metadata": {},
   "outputs": [
    {
     "name": "stdout",
     "output_type": "stream",
     "text": [
      "column1    3\n",
      "column2    3\n",
      "column3    3\n",
      "Column4    4\n",
      "dtype: int64\n"
     ]
    }
   ],
   "source": [
    "result = df.isnull().sum()  #kaç hata var ise toplar bize bunu gösterir.\n",
    "print(result)"
   ]
  },
  {
   "cell_type": "code",
   "execution_count": 25,
   "metadata": {},
   "outputs": [
    {
     "name": "stdout",
     "output_type": "stream",
     "text": [
      "   column1  column2  column3  Column4\n",
      "a     86.0     73.0     43.0      NaN\n",
      "b     83.0     12.0     78.0     30.0\n",
      "c      NaN      NaN      NaN      NaN\n",
      "d      NaN      NaN      NaN     51.0\n",
      "e     32.0     21.0     73.0      NaN\n",
      "f     48.0     16.0     25.0     40.0\n",
      "g      NaN      NaN      NaN      NaN\n",
      "h     70.0     86.0     81.0     45.0\n"
     ]
    }
   ],
   "source": [
    "newColumn = [np.nan,30,np.nan,51,np.nan,40,np.nan,45] \n",
    "df[\"Column4\"]=newColumn\n",
    "print(df)  #Yeni biir kolon eklemek"
   ]
  },
  {
   "cell_type": "code",
   "execution_count": 27,
   "metadata": {},
   "outputs": [
    {
     "name": "stdout",
     "output_type": "stream",
     "text": [
      "   column1  column2  column3  Column4\n",
      "b     83.0     12.0     78.0     30.0\n",
      "f     48.0     16.0     25.0     40.0\n",
      "h     70.0     86.0     81.0     45.0\n"
     ]
    }
   ],
   "source": [
    "result = df.dropna() #axis  = 0 =>SATIRA\n",
    "print(result)"
   ]
  },
  {
   "cell_type": "code",
   "execution_count": 28,
   "metadata": {},
   "outputs": [
    {
     "name": "stdout",
     "output_type": "stream",
     "text": [
      "   column1  column2  column3  Column4\n",
      "b     83.0     12.0     78.0     30.0\n",
      "f     48.0     16.0     25.0     40.0\n",
      "h     70.0     86.0     81.0     45.0\n"
     ]
    }
   ],
   "source": [
    "result = df.dropna(how = \"any\")\n",
    "print(result)\n",
    "    "
   ]
  },
  {
   "cell_type": "code",
   "execution_count": 29,
   "metadata": {},
   "outputs": [
    {
     "name": "stdout",
     "output_type": "stream",
     "text": [
      "   column1  column2  column3  Column4\n",
      "a     86.0     73.0     43.0      NaN\n",
      "b     83.0     12.0     78.0     30.0\n",
      "d      NaN      NaN      NaN     51.0\n",
      "e     32.0     21.0     73.0      NaN\n",
      "f     48.0     16.0     25.0     40.0\n",
      "h     70.0     86.0     81.0     45.0\n"
     ]
    }
   ],
   "source": [
    "result = df.dropna(how = \"all\")\n",
    "print(result)"
   ]
  },
  {
   "cell_type": "code",
   "execution_count": 30,
   "metadata": {},
   "outputs": [
    {
     "name": "stdout",
     "output_type": "stream",
     "text": [
      "   column1  column2  column3  Column4\n",
      "a     86.0     73.0     43.0      NaN\n",
      "b     83.0     12.0     78.0     30.0\n",
      "e     32.0     21.0     73.0      NaN\n",
      "f     48.0     16.0     25.0     40.0\n",
      "h     70.0     86.0     81.0     45.0\n"
     ]
    }
   ],
   "source": [
    "result = df.dropna(subset = [\"column1\",\"column2\"],how=\"all\")\n",
    "print(result)"
   ]
  },
  {
   "cell_type": "code",
   "execution_count": 31,
   "metadata": {},
   "outputs": [
    {
     "name": "stdout",
     "output_type": "stream",
     "text": [
      "   column1  column2  column3  Column4\n",
      "a     86.0     73.0     43.0      NaN\n",
      "b     83.0     12.0     78.0     30.0\n",
      "e     32.0     21.0     73.0      NaN\n",
      "f     48.0     16.0     25.0     40.0\n",
      "h     70.0     86.0     81.0     45.0\n"
     ]
    }
   ],
   "source": [
    "result = df.dropna(subset = [\"column1\",\"column2\"],how=\"any\")\n",
    "print(result)"
   ]
  },
  {
   "cell_type": "code",
   "execution_count": 32,
   "metadata": {},
   "outputs": [
    {
     "name": "stdout",
     "output_type": "stream",
     "text": [
      "   column1  column2  column3  Column4\n",
      "a     86.0     73.0     43.0      NaN\n",
      "b     83.0     12.0     78.0     30.0\n",
      "e     32.0     21.0     73.0      NaN\n",
      "f     48.0     16.0     25.0     40.0\n",
      "h     70.0     86.0     81.0     45.0\n"
     ]
    }
   ],
   "source": [
    "result = df.dropna(thresh =2 )\n",
    "\n",
    "print(result)"
   ]
  },
  {
   "cell_type": "code",
   "execution_count": 34,
   "metadata": {},
   "outputs": [
    {
     "name": "stdout",
     "output_type": "stream",
     "text": [
      "   column1  column2  column3  Column4\n",
      "a     86.0     73.0     43.0      NaN\n",
      "b     83.0     12.0     78.0     30.0\n",
      "e     32.0     21.0     73.0      NaN\n",
      "f     48.0     16.0     25.0     40.0\n",
      "h     70.0     86.0     81.0     45.0\n"
     ]
    }
   ],
   "source": [
    "result = df.dropna(thresh=3)#en az sayıda veri\n",
    "print(result)"
   ]
  },
  {
   "cell_type": "code",
   "execution_count": 36,
   "metadata": {},
   "outputs": [
    {
     "name": "stdout",
     "output_type": "stream",
     "text": [
      "   column1  column2  column3  Column4\n",
      "a     86.0     73.0     43.0      1.0\n",
      "b     83.0     12.0     78.0     30.0\n",
      "c      1.0      1.0      1.0      1.0\n",
      "d      1.0      1.0      1.0     51.0\n",
      "e     32.0     21.0     73.0      1.0\n",
      "f     48.0     16.0     25.0     40.0\n",
      "g      1.0      1.0      1.0      1.0\n",
      "h     70.0     86.0     81.0     45.0\n"
     ]
    }
   ],
   "source": [
    "result = df.fillna(value = 1)\n",
    "print(result)"
   ]
  },
  {
   "cell_type": "code",
   "execution_count": 37,
   "metadata": {},
   "outputs": [
    {
     "name": "stdout",
     "output_type": "stream",
     "text": [
      "    column1   column2   column3   Column4\n",
      "a        86        73        43  no input\n",
      "b        83        12        78        30\n",
      "c  no input  no input  no input  no input\n",
      "d  no input  no input  no input        51\n",
      "e        32        21        73  no input\n",
      "f        48        16        25        40\n",
      "g  no input  no input  no input  no input\n",
      "h        70        86        81        45\n"
     ]
    }
   ],
   "source": [
    "result = df.fillna(value = 'no input')\n",
    "print(result)"
   ]
  },
  {
   "cell_type": "code",
   "execution_count": 45,
   "metadata": {},
   "outputs": [
    {
     "name": "stdout",
     "output_type": "stream",
     "text": [
      "     column1    column2    column3    Column4\n",
      "a  86.000000  73.000000  43.000000  52.263158\n",
      "b  83.000000  12.000000  78.000000  30.000000\n",
      "c  52.263158  52.263158  52.263158  52.263158\n",
      "d  52.263158  52.263158  52.263158  51.000000\n",
      "e  32.000000  21.000000  73.000000  52.263158\n",
      "f  48.000000  16.000000  25.000000  40.000000\n",
      "g  52.263158  52.263158  52.263158  52.263158\n",
      "h  70.000000  86.000000  81.000000  45.000000\n"
     ]
    }
   ],
   "source": [
    "result = df.sum().sum() #Bütün elemanların toplamı\n",
    "result =df.size #eleman sayısı   \n",
    "def ortalama(df):\n",
    "    toplam = df.sum().sum()\n",
    "    adet = df.size- df.isnull().sum().sum()\n",
    "    return toplam/adet\n",
    "result = df.fillna(value= ortalama(df))\n",
    "print(result)"
   ]
  },
  {
   "cell_type": "code",
   "execution_count": null,
   "metadata": {},
   "outputs": [],
   "source": []
  }
 ],
 "metadata": {
  "kernelspec": {
   "display_name": "Python 3",
   "language": "python",
   "name": "python3"
  },
  "language_info": {
   "codemirror_mode": {
    "name": "ipython",
    "version": 3
   },
   "file_extension": ".py",
   "mimetype": "text/x-python",
   "name": "python",
   "nbconvert_exporter": "python",
   "pygments_lexer": "ipython3",
   "version": "3.8.5"
  }
 },
 "nbformat": 4,
 "nbformat_minor": 4
}
