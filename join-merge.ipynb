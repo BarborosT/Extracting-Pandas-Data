{
 "cells": [
  {
   "cell_type": "code",
   "execution_count": 29,
   "metadata": {},
   "outputs": [
    {
     "name": "stdout",
     "output_type": "stream",
     "text": [
      "   CustomerId FirstName LastName\n",
      "0           1     Ahmet   Yılmaz\n",
      "1           2       Ali  Korkmaz\n",
      "2           3     Hasan    Çelik\n",
      "3           4     Canan   Toprak\n",
      "   OrderId  CustomerId   OrderDate\n",
      "0       10           1  2010-07-04\n",
      "1       11           2  2010-08-04\n",
      "2       12           3  2010-07-07\n",
      "3       13           7  2012-08-04\n"
     ]
    }
   ],
   "source": [
    "import pandas as pd\n",
    "\n",
    "customers = {\n",
    "    \n",
    "    'CustomerId': [1,2,3,4],\n",
    "    'FirstName': [\"Ahmet\",\"Ali\",\"Hasan\",\"Canan\"],\n",
    "    'LastName': [\"Yılmaz\",\"Korkmaz\",\"Çelik\",\"Toprak\"],\n",
    "}\n",
    "order = {\n",
    "    'OrderId': [10,11,12,13],\n",
    "    'CustomerId': [1,2,3,7],\n",
    "    'OrderDate':['2010-07-04','2010-08-04','2010-07-07','2012-08-04'],\n",
    "}\n",
    "\n",
    "df_customers = pd.DataFrame(customers, columns=[\"CustomerId\",\"FirstName\",\"LastName\"])\n",
    "df_orders = pd.DataFrame(order, columns=[\"OrderId\",\"CustomerId\",\"OrderDate\"])\n",
    "\n",
    "print(df_customers)\n",
    "print(df_orders)                                         \n",
    "            "
   ]
  },
  {
   "cell_type": "code",
   "execution_count": 30,
   "metadata": {},
   "outputs": [
    {
     "name": "stdout",
     "output_type": "stream",
     "text": [
      "   CustomerId FirstName LastName  OrderId   OrderDate\n",
      "0           1     Ahmet   Yılmaz     10.0  2010-07-04\n",
      "1           2       Ali  Korkmaz     11.0  2010-08-04\n",
      "2           3     Hasan    Çelik     12.0  2010-07-07\n",
      "3           4     Canan   Toprak      NaN         NaN\n",
      "4           7       NaN      NaN     13.0  2012-08-04\n"
     ]
    }
   ],
   "source": [
    "result = pd.merge(df_customers,df_orders,how= \"inner\")\n",
    "result = pd.merge(df_customers,df_orders,how= \"left\") #sipariş olmayanları getirmek için\n",
    "result = pd.merge(df_customers,df_orders,how= \"outer\")#bütün siparişler gelir.\n",
    "print(result)"
   ]
  },
  {
   "cell_type": "code",
   "execution_count": 31,
   "metadata": {},
   "outputs": [
    {
     "name": "stdout",
     "output_type": "stream",
     "text": [
      "   CustomerId FirstName LastName  OrderId   OrderDate\n",
      "0           1     Ahmet   Yılmaz     10.0  2010-07-04\n",
      "1           2       Ali  Korkmaz     11.0  2010-08-04\n",
      "2           3     Hasan    Çelik     12.0  2010-07-07\n",
      "3           4     Canan   Toprak      NaN         NaN\n"
     ]
    }
   ],
   "source": [
    "#result = pd.merge(df_customers,df_orders,how=\"outer\")\n",
    "result= pd.merge(df_customers,df_orders ,how=\"left\") \n",
    "print(result)\n",
    "#Örnek verirsek canan toprak sipariş vermemiştir ve kaydu duruyor"
   ]
  },
  {
   "cell_type": "code",
   "execution_count": 32,
   "metadata": {},
   "outputs": [
    {
     "name": "stdout",
     "output_type": "stream",
     "text": [
      "   CustomerId FirstName LastName  OrderId   OrderDate\n",
      "0           1     Ahmet   Yılmaz       10  2010-07-04\n",
      "1           2       Ali  Korkmaz       11  2010-08-04\n",
      "2           3     Hasan    Çelik       12  2010-07-07\n",
      "3           7       NaN      NaN       13  2012-08-04\n"
     ]
    }
   ],
   "source": [
    "result = pd.merge(df_customers,df_orders,how= \"right\") #sipariş olmayanları  isimleri NAN olarak değişiri çok gereksiz. left kullan\n",
    "print(result)"
   ]
  },
  {
   "cell_type": "code",
   "execution_count": 33,
   "metadata": {},
   "outputs": [
    {
     "name": "stdout",
     "output_type": "stream",
     "text": [
      "   CustomerId FirstName LastName\n",
      "0           1     Ahmet   Yılmaz\n",
      "1           2       Ali  Korkmaz\n",
      "2           3     Hasan    Çelik\n",
      "3           4     Canan   Toprak\n",
      "0           5    Yağmur   Yılmaz\n",
      "1           3    Mehmet     Teli\n",
      "2           9     Çınar  Korkmaz\n",
      "3           1       Can    Turan\n"
     ]
    }
   ],
   "source": [
    "customersA = {\n",
    "    \n",
    "    'CustomerId': [1,2,3,4],\n",
    "    'FirstName': [\"Ahmet\",\"Ali\",\"Hasan\",\"Canan\"],\n",
    "    'LastName': [\"Yılmaz\",\"Korkmaz\",\"Çelik\",\"Toprak\"],\n",
    "}\n",
    "customersB = {\n",
    "    \n",
    "    'CustomerId': [5,3,9,1],\n",
    "    'FirstName': [\"Yağmur\",\"Mehmet\",\"Çınar\",\"Can\"],\n",
    "    'LastName': [\"Yılmaz\",\"Teli\",\"Korkmaz\",\"Turan\"],\n",
    "}\n",
    "df_customersA = pd.DataFrame(customersA, columns=[\"CustomerId\",\"FirstName\",\"LastName\"])\n",
    "df_customersB= pd.DataFrame(customersB, columns=[\"CustomerId\",\"FirstName\",\"LastName\"])\n",
    "\n",
    "result = pd.concat([df_customersA,df_customersB]) #iki dataframe birleştirmek için uygulanır \n",
    "print(result)"
   ]
  },
  {
   "cell_type": "code",
   "execution_count": 3,
   "metadata": {},
   "outputs": [
    {
     "name": "stdout",
     "output_type": "stream",
     "text": [
      "   CustomerId FristName LastName\n",
      "0          12  Barboros   Yılmaz\n",
      "1          13     Büşra   Rekila\n",
      "2          14     Kemal    Nevis\n",
      "3          15     Aylin    Hemir\n",
      "0          22     Yaren   Yılmaz\n",
      "1          23     Fatih   Rekila\n",
      "2          24     Samet    Nevis\n",
      "3          25      Sara    Hemir\n"
     ]
    }
   ],
   "source": [
    "import pandas as pd\n",
    "customerA={\n",
    "    'CustomerId':[12,13,14,15],\n",
    "    'FristName':[\"Barboros\",\"Büşra\",\"Kemal\",\"Aylin\"],\n",
    "    'LastName':[\"Yılmaz\",\"Rekila\",\"Nevis\",\"Hemir\"],\n",
    "}\n",
    "customerB={\n",
    "    'CustomerId':[22,23,24,25],\n",
    "    'FristName':[\"Yaren\",\"Fatih\",\"Samet\",\"Sara\"],\n",
    "    'LastName':[\"Yılmaz\",\"Rekila\",\"Nevis\",\"Hemir\"],\n",
    "    \n",
    "}\n",
    "df_customerA =pd.DataFrame(customerA, columns=[\"CustomerId\",\"FristName\",\"LastName\"])\n",
    "df_customerB =pd.DataFrame(customerB, columns=[\"CustomerId\",\"FristName\",\"LastName\"])\n",
    "\n",
    "result = pd.concat([df_customerA,df_customerB])\n",
    "print(result)"
   ]
  },
  {
   "cell_type": "code",
   "execution_count": null,
   "metadata": {},
   "outputs": [],
   "source": []
  },
  {
   "cell_type": "code",
   "execution_count": null,
   "metadata": {},
   "outputs": [],
   "source": []
  }
 ],
 "metadata": {
  "kernelspec": {
   "display_name": "Python 3",
   "language": "python",
   "name": "python3"
  },
  "language_info": {
   "codemirror_mode": {
    "name": "ipython",
    "version": 3
   },
   "file_extension": ".py",
   "mimetype": "text/x-python",
   "name": "python",
   "nbconvert_exporter": "python",
   "pygments_lexer": "ipython3",
   "version": "3.8.5"
  }
 },
 "nbformat": 4,
 "nbformat_minor": 4
}
