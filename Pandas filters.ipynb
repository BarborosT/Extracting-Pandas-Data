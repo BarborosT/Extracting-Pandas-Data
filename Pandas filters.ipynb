{
 "cells": [
  {
   "cell_type": "code",
   "execution_count": 1,
   "metadata": {},
   "outputs": [
    {
     "name": "stdout",
     "output_type": "stream",
     "text": [
      "    Column1  Column2  Column3  Column4  Column5\n",
      "0        39       70       74       75       23\n",
      "1        75       47       24       89       34\n",
      "2        44       88       74       25       20\n",
      "3        52       61       33       64       84\n",
      "4        14       56       62       48       23\n",
      "5        76       36       74       39       86\n",
      "6        12       59       80       42       70\n",
      "7        12       14       32       57       65\n",
      "8        15       25       75       22       79\n",
      "9        76       61       59       97       80\n",
      "10       33       88       84       95       26\n",
      "11       79       74       46       20       18\n",
      "12       45       41       98       48       58\n",
      "13       12       26       66       80       54\n",
      "14       62       55       75       35       39\n"
     ]
    }
   ],
   "source": [
    "import pandas as pd\n",
    "\n",
    "import numpy as np\n",
    "\n",
    "data = np.random.randint(10,100,75).reshape(15,5)\n",
    "\n",
    "df =pd.DataFrame(data, columns=[\"Column1\",\"Column2\",\"Column3\",\"Column4\",\"Column5\",]) #Column değerini vermeyi unutma\n",
    "result =df\n",
    "\n",
    "print(result)"
   ]
  },
  {
   "cell_type": "code",
   "execution_count": 2,
   "metadata": {},
   "outputs": [
    {
     "name": "stdout",
     "output_type": "stream",
     "text": [
      "Index(['Column1', 'Column2', 'Column3', 'Column4', 'Column5'], dtype='object')\n"
     ]
    }
   ],
   "source": [
    "#örnek verelim içinde csv  columns öğrenmek istiyorum ne yapmalıyım.\n",
    "\n",
    "result = df.columns\n",
    "print(result)"
   ]
  },
  {
   "cell_type": "code",
   "execution_count": 3,
   "metadata": {
    "scrolled": true
   },
   "outputs": [
    {
     "name": "stdout",
     "output_type": "stream",
     "text": [
      "   Column1  Column2  Column3  Column4  Column5\n",
      "0       39       70       74       75       23\n",
      "1       75       47       24       89       34\n",
      "2       44       88       74       25       20\n",
      "3       52       61       33       64       84\n",
      "4       14       56       62       48       23\n",
      "5       76       36       74       39       86\n",
      "6       12       59       80       42       70\n",
      "7       12       14       32       57       65\n",
      "8       15       25       75       22       79\n",
      "9       76       61       59       97       80\n"
     ]
    }
   ],
   "source": [
    "result = df.head(10) #sadece 10 tane satır almak istersek yapmamız gereken\n",
    "print(result)"
   ]
  },
  {
   "cell_type": "code",
   "execution_count": 4,
   "metadata": {
    "scrolled": true
   },
   "outputs": [
    {
     "name": "stdout",
     "output_type": "stream",
     "text": [
      "    Column1  Column2  Column3  Column4  Column5\n",
      "10       33       88       84       95       26\n",
      "11       79       74       46       20       18\n",
      "12       45       41       98       48       58\n",
      "13       12       26       66       80       54\n",
      "14       62       55       75       35       39\n"
     ]
    }
   ],
   "source": [
    "result = df.tail() #son 5 satır gelmesini isterek\n",
    "print(result)"
   ]
  },
  {
   "cell_type": "code",
   "execution_count": 21,
   "metadata": {},
   "outputs": [
    {
     "name": "stdout",
     "output_type": "stream",
     "text": [
      "    Column1  Column2  Columns3  Columns4  Columns5\n",
      "8        19       28        46        35        88\n",
      "9        17       28        26        37        28\n",
      "10       99       84        67        73        47\n",
      "11       81       40        74        98        30\n",
      "12       70       40        81        47        16\n",
      "13       89       76        49        77        79\n",
      "14       95       70        81        24        68\n"
     ]
    }
   ],
   "source": [
    "result = df.tail(7) #son 7 \n",
    "print(result)"
   ]
  },
  {
   "cell_type": "code",
   "execution_count": 22,
   "metadata": {},
   "outputs": [
    {
     "name": "stdout",
     "output_type": "stream",
     "text": [
      "0    35\n",
      "1    16\n",
      "2    15\n",
      "3    94\n",
      "4    74\n",
      "Name: Column1, dtype: int64\n"
     ]
    }
   ],
   "source": [
    "result = df[\"Column1\"].head() #daha kolay\n",
    "print(result)"
   ]
  },
  {
   "cell_type": "code",
   "execution_count": 23,
   "metadata": {},
   "outputs": [
    {
     "name": "stdout",
     "output_type": "stream",
     "text": [
      "0    35\n",
      "1    16\n",
      "2    15\n",
      "3    94\n",
      "4    74\n",
      "Name: Column1, dtype: int64\n"
     ]
    }
   ],
   "source": [
    "result = df.Column1.head() #İstersek böyle de çağırabiliriz.\n",
    "print(result)"
   ]
  },
  {
   "cell_type": "code",
   "execution_count": 24,
   "metadata": {
    "scrolled": true
   },
   "outputs": [
    {
     "name": "stdout",
     "output_type": "stream",
     "text": [
      "   Column1  Column2\n",
      "0       35       80\n",
      "1       16       41\n",
      "2       15       93\n",
      "3       94       86\n",
      "4       74       55\n"
     ]
    }
   ],
   "source": [
    "result = df[[\"Column1\",\"Column2\"]].head()#iki column eklemek stersek ne yapmalıyız.\n",
    "print(result)"
   ]
  },
  {
   "cell_type": "code",
   "execution_count": 25,
   "metadata": {},
   "outputs": [
    {
     "name": "stdout",
     "output_type": "stream",
     "text": [
      "    Column1  Column2\n",
      "10       99       84\n",
      "11       81       40\n",
      "12       70       40\n",
      "13       89       76\n",
      "14       95       70\n"
     ]
    }
   ],
   "source": [
    "result = df[5:15][[\"Column1\",\"Column2\"]].head()\n",
    "result = df[5:15][[\"Column1\",\"Column2\"]].tail()\n",
    "print(result)"
   ]
  },
  {
   "cell_type": "code",
   "execution_count": 26,
   "metadata": {},
   "outputs": [
    {
     "name": "stdout",
     "output_type": "stream",
     "text": [
      "    Column1  Column2  Columns3  Columns4  Columns5\n",
      "0     False     True      True     False      True\n",
      "1     False    False      True     False      True\n",
      "2     False     True     False     False     False\n",
      "3      True     True      True      True     False\n",
      "4      True     True      True      True      True\n",
      "5     False     True     False     False     False\n",
      "6      True    False     False      True      True\n",
      "7     False     True     False      True      True\n",
      "8     False    False     False     False      True\n",
      "9     False    False     False     False     False\n",
      "10     True     True      True      True     False\n",
      "11     True    False      True      True     False\n",
      "12     True    False      True     False     False\n",
      "13     True     True     False      True      True\n",
      "14     True     True      True     False      True\n"
     ]
    }
   ],
   "source": [
    "result = df > 50\n",
    "print(result)"
   ]
  },
  {
   "cell_type": "code",
   "execution_count": 27,
   "metadata": {},
   "outputs": [
    {
     "name": "stdout",
     "output_type": "stream",
     "text": [
      "    Column1  Column2  Columns3  Columns4  Columns5\n",
      "0       NaN     80.0      54.0       NaN      87.0\n",
      "1       NaN      NaN      91.0       NaN      92.0\n",
      "2       NaN     93.0       NaN       NaN       NaN\n",
      "3      94.0     86.0      61.0      80.0       NaN\n",
      "4      74.0     55.0      52.0      85.0      94.0\n",
      "5       NaN     68.0       NaN       NaN       NaN\n",
      "6      96.0      NaN       NaN      57.0      59.0\n",
      "7       NaN     66.0       NaN      59.0      69.0\n",
      "8       NaN      NaN       NaN       NaN      88.0\n",
      "9       NaN      NaN       NaN       NaN       NaN\n",
      "10     99.0     84.0      67.0      73.0       NaN\n",
      "11     81.0      NaN      74.0      98.0       NaN\n",
      "12     70.0      NaN      81.0       NaN       NaN\n",
      "13     89.0     76.0       NaN      77.0      79.0\n",
      "14     95.0     70.0      81.0       NaN      68.0\n"
     ]
    }
   ],
   "source": [
    "result = df[df > 50]\n",
    "print(result)"
   ]
  },
  {
   "cell_type": "code",
   "execution_count": 28,
   "metadata": {
    "scrolled": true
   },
   "outputs": [
    {
     "name": "stdout",
     "output_type": "stream",
     "text": [
      "    Column1  Column2  Columns3  Columns4  Columns5\n",
      "0       NaN     80.0      54.0      36.0       NaN\n",
      "1      16.0      NaN       NaN      40.0      92.0\n",
      "2       NaN      NaN      20.0      16.0      18.0\n",
      "3      94.0     86.0       NaN      80.0      40.0\n",
      "4      74.0      NaN      52.0       NaN      94.0\n",
      "5      38.0     68.0       NaN      22.0      44.0\n",
      "6      96.0      NaN      48.0       NaN       NaN\n",
      "7       NaN     66.0       NaN       NaN       NaN\n",
      "8       NaN     28.0      46.0       NaN      88.0\n",
      "9       NaN     28.0      26.0       NaN      28.0\n",
      "10      NaN     84.0       NaN       NaN       NaN\n",
      "11      NaN     40.0      74.0      98.0      30.0\n",
      "12     70.0     40.0       NaN       NaN      16.0\n",
      "13      NaN     76.0       NaN       NaN       NaN\n",
      "14      NaN     70.0       NaN      24.0      68.0\n"
     ]
    }
   ],
   "source": [
    "result = df[df % 2 ==0]\n",
    "print(result)"
   ]
  },
  {
   "cell_type": "code",
   "execution_count": 30,
   "metadata": {},
   "outputs": [
    {
     "name": "stdout",
     "output_type": "stream",
     "text": [
      "0      True\n",
      "1     False\n",
      "2      True\n",
      "3      True\n",
      "4      True\n",
      "5      True\n",
      "6     False\n",
      "7      True\n",
      "8     False\n",
      "9     False\n",
      "10     True\n",
      "11    False\n",
      "12    False\n",
      "13     True\n",
      "14     True\n",
      "Name: Column2, dtype: bool\n"
     ]
    }
   ],
   "source": [
    "result = df[\"Column2\" ] > 50\n",
    "print(result)"
   ]
  },
  {
   "cell_type": "code",
   "execution_count": 31,
   "metadata": {},
   "outputs": [
    {
     "name": "stdout",
     "output_type": "stream",
     "text": [
      "    Column1  Column2\n",
      "3        94       86\n",
      "4        74       55\n",
      "6        96       19\n",
      "10       99       84\n",
      "11       81       40\n",
      "12       70       40\n",
      "13       89       76\n",
      "14       95       70\n"
     ]
    }
   ],
   "source": [
    "result = df[df[\"Column1\"] > 50 ][[\"Column1\",\"Column2\"]]\n",
    "print(result)"
   ]
  },
  {
   "cell_type": "code",
   "execution_count": 35,
   "metadata": {},
   "outputs": [
    {
     "name": "stdout",
     "output_type": "stream",
     "text": [
      "    Column1  Column2  Columns3  Columns4  Columns5\n",
      "0        35       80        54        36        87\n",
      "1        16       41        91        40        92\n",
      "2        15       93        20        16        18\n",
      "5        38       68        15        22        44\n",
      "7        47       66        13        59        69\n",
      "8        19       28        46        35        88\n",
      "9        17       28        26        37        28\n",
      "12       70       40        81        47        16\n"
     ]
    }
   ],
   "source": [
    "result = df[(df[\"Column1\"] > 10) & (df[\"Column1\"] <=70)]\n",
    "print(result)"
   ]
  },
  {
   "cell_type": "code",
   "execution_count": 18,
   "metadata": {},
   "outputs": [
    {
     "name": "stdout",
     "output_type": "stream",
     "text": [
      "    Column1  Column2  Column3  Column4  Column5\n",
      "1        75       47       24       89       34\n",
      "3        52       61       33       64       84\n",
      "5        76       36       74       39       86\n",
      "9        76       61       59       97       80\n",
      "11       79       74       46       20       18\n",
      "14       62       55       75       35       39\n"
     ]
    }
   ],
   "source": [
    "result = df.query(\"Column1 >=50\") #Burada parantez kullanılıyor...\n",
    "print(result)"
   ]
  },
  {
   "cell_type": "code",
   "execution_count": null,
   "metadata": {},
   "outputs": [],
   "source": []
  }
 ],
 "metadata": {
  "kernelspec": {
   "display_name": "Python 3",
   "language": "python",
   "name": "python3"
  },
  "language_info": {
   "codemirror_mode": {
    "name": "ipython",
    "version": 3
   },
   "file_extension": ".py",
   "mimetype": "text/x-python",
   "name": "python",
   "nbconvert_exporter": "python",
   "pygments_lexer": "ipython3",
   "version": "3.8.5"
  }
 },
 "nbformat": 4,
 "nbformat_minor": 4
}
