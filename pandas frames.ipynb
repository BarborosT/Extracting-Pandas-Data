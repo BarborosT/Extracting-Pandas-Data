{
 "cells": [
  {
   "cell_type": "code",
   "execution_count": 6,
   "metadata": {},
   "outputs": [
    {
     "name": "stdout",
     "output_type": "stream",
     "text": [
      "   apples  oranges\n",
      "0       3        2\n",
      "1       2        0\n",
      "2       1        9\n",
      "3       0        4\n"
     ]
    }
   ],
   "source": [
    "import pandas as pd\n",
    "\n",
    "s1 = pd.Series([3,2,1,0])\n",
    "s2 = pd.Series([2,0,9,4])\n",
    "\n",
    "data = dict(apples = s1 , oranges = s2)\n",
    "\n",
    "df = pd.DataFrame(data) #aslında en önemli yer burası DataFrame yazarak ekrana yansıtıyoruz.\n",
    "print(df)"
   ]
  },
  {
   "cell_type": "code",
   "execution_count": 7,
   "metadata": {
    "scrolled": true
   },
   "outputs": [
    {
     "name": "stdout",
     "output_type": "stream",
     "text": [
      "Empty DataFrame\n",
      "Columns: []\n",
      "Index: []\n"
     ]
    }
   ],
   "source": [
    "df = pd.DataFrame()\n",
    "print(df)"
   ]
  },
  {
   "cell_type": "code",
   "execution_count": 8,
   "metadata": {},
   "outputs": [
    {
     "name": "stdout",
     "output_type": "stream",
     "text": [
      "   0\n",
      "0  1\n",
      "1  2\n",
      "2  3\n",
      "3  4\n",
      "4  5\n"
     ]
    }
   ],
   "source": [
    "df = pd.DataFrame([1,2,3,4,5])\n",
    "print(df)"
   ]
  },
  {
   "cell_type": "code",
   "execution_count": 13,
   "metadata": {},
   "outputs": [
    {
     "name": "stdout",
     "output_type": "stream",
     "text": [
      "          0   1\n",
      "0     Ahmet  50\n",
      "1  Barboros  98\n",
      "2    Yağmur  55\n",
      "3     Çilek  67\n"
     ]
    }
   ],
   "source": [
    "df = pd.DataFrame([[\"Ahmet\",50],[\"Barboros\",98],[\"Yağmur\",55],[\"Çilek\",67]])#İki kez köşeli parentez alayı sakın unutma\n",
    "\n",
    "print(df)"
   ]
  },
  {
   "cell_type": "code",
   "execution_count": 11,
   "metadata": {},
   "outputs": [
    {
     "name": "stdout",
     "output_type": "stream",
     "text": [
      "          0   1\n",
      "0  Barboros  98\n",
      "1     Arlin  93\n"
     ]
    }
   ],
   "source": [
    "df = pd.DataFrame([[\"Barboros\",98],[\"Arlin\",93]])\n",
    "print(df)"
   ]
  },
  {
   "cell_type": "code",
   "execution_count": 18,
   "metadata": {},
   "outputs": [
    {
     "name": "stdout",
     "output_type": "stream",
     "text": [
      "       name  grade\n",
      "1     Ahmet     50\n",
      "2  Barboros     98\n",
      "3    Yağmur     55\n",
      "4     Çilek     67\n"
     ]
    }
   ],
   "source": [
    "data = [[\"Ahmet\",50],[\"Barboros\",98],[\"Yağmur\",55],[\"Çilek\",67]] \n",
    "\n",
    "df = pd.DataFrame(data, index = [1,2,3,4],columns=['name','grade'])\n",
    "print(df)"
   ]
  },
  {
   "cell_type": "code",
   "execution_count": 6,
   "metadata": {},
   "outputs": [
    {
     "name": "stdout",
     "output_type": "stream",
     "text": [
      "      name  grade\n",
      "1  baroros     89\n",
      "2    halit     75\n",
      "3    arlin     77\n"
     ]
    }
   ],
   "source": [
    "data = [['baroros',89],['halit',75],['arlin',77]]\n",
    "df = pd.DataFrame(data,index =[1,2,3],columns=['name','grade'])\n",
    "print(df)"
   ]
  },
  {
   "cell_type": "code",
   "execution_count": 20,
   "metadata": {},
   "outputs": [
    {
     "name": "stdout",
     "output_type": "stream",
     "text": [
      "         Name  Grade\n",
      "123     Ahmet     50\n",
      "223  Barboros     67\n",
      "653  Taritora     70\n"
     ]
    }
   ],
   "source": [
    "list = [[\"Ahmet\",50],[\"Barboros\",67],[\"Taritora\",70]]\n",
    "dict = {\"Name\":[\"Ahmet\",\"Barboros\",\"Taritora\"],\"Grade\":[50,67,70]}\n",
    "\n",
    "df = pd.DataFrame(dict,index= [\"123\",\"223\",\"653\"]) #Öğrenci numaraları\n",
    "\n",
    "print(df)"
   ]
  },
  {
   "cell_type": "code",
   "execution_count": 24,
   "metadata": {},
   "outputs": [
    {
     "name": "stdout",
     "output_type": "stream",
     "text": [
      "     Name  Grade\n",
      "0   Ahmet    100\n",
      "1     ali     50\n",
      "2   aliye     40\n",
      "3  yağmur     90\n"
     ]
    }
   ],
   "source": [
    "dict_list = [\n",
    "    {\"Name\":\"Ahmet\",\"Grade\":100},\n",
    "    {\"Name\":\"ali\",\"Grade\":50},\n",
    "    {\"Name\":\"aliye\",\"Grade\":40},\n",
    "    {\"Name\":\"yağmur\",\"Grade\":90},\n",
    "            ]\n",
    "df = pd.DataFrame(dict_list)\n",
    "print(df)"
   ]
  },
  {
   "cell_type": "code",
   "execution_count": null,
   "metadata": {},
   "outputs": [],
   "source": []
  }
 ],
 "metadata": {
  "kernelspec": {
   "display_name": "Python 3",
   "language": "python",
   "name": "python3"
  },
  "language_info": {
   "codemirror_mode": {
    "name": "ipython",
    "version": 3
   },
   "file_extension": ".py",
   "mimetype": "text/x-python",
   "name": "python",
   "nbconvert_exporter": "python",
   "pygments_lexer": "ipython3",
   "version": "3.8.5"
  }
 },
 "nbformat": 4,
 "nbformat_minor": 4
}
