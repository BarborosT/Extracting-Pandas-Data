{
 "cells": [
  {
   "cell_type": "code",
   "execution_count": 4,
   "metadata": {
    "scrolled": true
   },
   "outputs": [
    {
     "name": "stdout",
     "output_type": "stream",
     "text": [
      "                  name  year_start  year_end position height  weight  \\\n",
      "0       Alaa Abdelnaby        1991      1995      F-C   6-10   240.0   \n",
      "1      Zaid Abdul-Aziz        1969      1978      C-F    6-9   235.0   \n",
      "2  Kareem Abdul-Jabbar        1970      1989        C    7-2   225.0   \n",
      "3   Mahmoud Abdul-Rauf        1991      2001        G    6-1   162.0   \n",
      "4    Tariq Abdul-Wahad        1998      2003        F    6-6   223.0   \n",
      "5  Shareef Abdur-Rahim        1997      2008        F    6-9   225.0   \n",
      "6        Tom Abernethy        1977      1981        F    6-7   220.0   \n",
      "7          Forest Able        1957      1957        G    6-3   180.0   \n",
      "8       John Abramovic        1947      1948        F    6-3   195.0   \n",
      "9         Alex Abrines        2017      2018      G-F    6-6   190.0   \n",
      "\n",
      "          birth_date                                college  \n",
      "0      June 24, 1968                        Duke University  \n",
      "1      April 7, 1946                  Iowa State University  \n",
      "2     April 16, 1947  University of California, Los Angeles  \n",
      "3      March 9, 1969             Louisiana State University  \n",
      "4   November 3, 1974              San Jose State University  \n",
      "5  December 11, 1976               University of California  \n",
      "6        May 6, 1954                     Indiana University  \n",
      "7      July 27, 1932            Western Kentucky University  \n",
      "8   February 9, 1919         Salem International University  \n",
      "9     August 1, 1993                                    NaN  \n"
     ]
    }
   ],
   "source": [
    "import pandas as pd\n",
    "\n",
    "data = pd.read_csv(\"player_data.csv\")\n",
    "print(data.head(10))\n",
    "#İlk 10 kişinin verisi"
   ]
  },
  {
   "cell_type": "code",
   "execution_count": 5,
   "metadata": {},
   "outputs": [
    {
     "name": "stdout",
     "output_type": "stream",
     "text": [
      "4550\n"
     ]
    }
   ],
   "source": [
    "result = len(data.index)#Toplam kaç kişi olduğunu öğrenmek için uygullanır.\n",
    "print(result)"
   ]
  },
  {
   "cell_type": "code",
   "execution_count": 6,
   "metadata": {},
   "outputs": [
    {
     "name": "stdout",
     "output_type": "stream",
     "text": [
      "1985.0762637362636\n"
     ]
    }
   ],
   "source": [
    "#Toplam maaş ortalaması hesaplama\n",
    "\n",
    "result = data[\"year_start\"].mean()\n",
    "print(result)\n",
    "#Mesela bizde olmadığı için doğum yıllarını hesapladık ortalama yaş yani"
   ]
  },
  {
   "cell_type": "code",
   "execution_count": 8,
   "metadata": {},
   "outputs": [
    {
     "name": "stdout",
     "output_type": "stream",
     "text": [
      "2018\n"
     ]
    }
   ],
   "source": [
    "result = data[\"year_end\"].max()\n",
    "print(result) #yani en yüksek yaş 2018 olduğunu görüyoruz."
   ]
  },
  {
   "cell_type": "code",
   "execution_count": null,
   "metadata": {},
   "outputs": [],
   "source": [
    "#En yüksek maaş\n",
    "#result= data[\"Maaş\"].max()"
   ]
  },
  {
   "cell_type": "code",
   "execution_count": 12,
   "metadata": {},
   "outputs": [
    {
     "name": "stdout",
     "output_type": "stream",
     "text": [
      "                    name position\n",
      "3     Mahmoud Abdul-Rauf        G\n",
      "20         Michael Adams        G\n",
      "116       Tiny Archibald        G\n",
      "142        Chucky Atkins        G\n",
      "144        Chet Aubuchon        G\n",
      "...                  ...      ...\n",
      "4333        D.C. Wilcutt        G\n",
      "4360    Charles Williams        G\n",
      "4448         Tony Windis        G\n",
      "4454        Marv Winkler        G\n",
      "4503        Larry Wright        G\n",
      "\n",
      "[121 rows x 2 columns]\n"
     ]
    }
   ],
   "source": [
    "#Kilosu 40 ile 167 arasında olan iki fotoğrafı alın..\n",
    "result = data[(data[\"weight\"]>=40) & (data[\"weight\"]< 167)][[\"name\",\"position\"]]\n",
    "print(result)"
   ]
  },
  {
   "cell_type": "code",
   "execution_count": 13,
   "metadata": {},
   "outputs": [
    {
     "name": "stdout",
     "output_type": "stream",
     "text": [
      "                     name position\n",
      "0          Alaa Abdelnaby      F-C\n",
      "1         Zaid Abdul-Aziz      C-F\n",
      "2     Kareem Abdul-Jabbar        C\n",
      "3      Mahmoud Abdul-Rauf        G\n",
      "4       Tariq Abdul-Wahad        F\n",
      "...                   ...      ...\n",
      "4545           Ante Zizic      F-C\n",
      "4546             Jim Zoet        C\n",
      "4547            Bill Zopf        G\n",
      "4548          Ivica Zubac        C\n",
      "4549           Matt Zunic      G-F\n",
      "\n",
      "[4544 rows x 2 columns]\n"
     ]
    }
   ],
   "source": [
    "result = data[data[\"weight\"]> 40 & (data[\"weight\"]< 167)][[\"name\",\"position\"]]\n",
    "print(result)"
   ]
  },
  {
   "cell_type": "code",
   "execution_count": 14,
   "metadata": {},
   "outputs": [
    {
     "name": "stdout",
     "output_type": "stream",
     "text": [
      "F-C\n"
     ]
    }
   ],
   "source": [
    "result =data [data[\"name\"]==\"Alaa Abdelnaby\"][\"position\"].iloc[0]\n",
    "print(result)\n",
    "# Alaa Abdelnaby adlı kişinin posisyon durumunu öğrenmek istersek kullancağımız yöntem."
   ]
  }
 ],
 "metadata": {
  "kernelspec": {
   "display_name": "Python 3",
   "language": "python",
   "name": "python3"
  },
  "language_info": {
   "codemirror_mode": {
    "name": "ipython",
    "version": 3
   },
   "file_extension": ".py",
   "mimetype": "text/x-python",
   "name": "python",
   "nbconvert_exporter": "python",
   "pygments_lexer": "ipython3",
   "version": "3.9.10"
  }
 },
 "nbformat": 4,
 "nbformat_minor": 4
}
