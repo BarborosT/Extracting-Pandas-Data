{
 "cells": [
  {
   "cell_type": "code",
   "execution_count": 10,
   "metadata": {},
   "outputs": [
    {
     "name": "stdout",
     "output_type": "stream",
     "text": [
      "0    20\n",
      "1    30\n",
      "2    40\n",
      "3    50\n",
      "dtype: int64\n"
     ]
    }
   ],
   "source": [
    "import pandas as pd\n",
    "\n",
    "numbers = [20,30,40,50]\n",
    "letters = ['a','b','c']\n",
    "pandas_serias = pd.Series(numbers)\n",
    "\n",
    "print(pandas_serias)"
   ]
  },
  {
   "cell_type": "code",
   "execution_count": 11,
   "metadata": {},
   "outputs": [
    {
     "name": "stdout",
     "output_type": "stream",
     "text": [
      "0    a\n",
      "1    b\n",
      "2    c\n",
      "dtype: object\n"
     ]
    }
   ],
   "source": [
    "pandas_serias = pd.Series(letters)\n",
    "print(pandas_serias)"
   ]
  },
  {
   "cell_type": "code",
   "execution_count": 14,
   "metadata": {},
   "outputs": [
    {
     "name": "stdout",
     "output_type": "stream",
     "text": [
      "0    5\n",
      "1    5\n",
      "2    5\n",
      "3    5\n",
      "4    5\n",
      "dtype: int64\n"
     ]
    }
   ],
   "source": [
    "scalar = 5 #Bakın burdan sadece 5 bilgisi gönderiliyor.\n",
    "pandas_serias = pd.Series(scalar,[0,1,2,3,4])\n",
    "print(pandas_serias)"
   ]
  },
  {
   "cell_type": "code",
   "execution_count": 16,
   "metadata": {},
   "outputs": [
    {
     "name": "stdout",
     "output_type": "stream",
     "text": [
      "a    10\n",
      "b    20\n",
      "c    30\n",
      "d    40\n",
      "dtype: int64\n"
     ]
    }
   ],
   "source": [
    "Letters=[10,20,30,40] #Biz istersek kendi eşleşmemizi de yazdıralbiliyoruz.\n",
    "pandas_serias = pd.Series(Letters,['a','b','c','d'])\n",
    "print(pandas_serias)"
   ]
  },
  {
   "cell_type": "code",
   "execution_count": 9,
   "metadata": {},
   "outputs": [
    {
     "name": "stdout",
     "output_type": "stream",
     "text": [
      "a    10\n",
      "b    30\n",
      "c    20\n",
      "d    38\n",
      "dtype: int64\n"
     ]
    }
   ],
   "source": [
    "letters= [10,30,20,38]\n",
    "pandas_serias = pd.Series(letters,['a','b','c','d'])\n",
    "print(pandas_serias)"
   ]
  },
  {
   "cell_type": "code",
   "execution_count": 17,
   "metadata": {},
   "outputs": [
    {
     "name": "stdout",
     "output_type": "stream",
     "text": [
      "a    10\n",
      "b    20\n",
      "c    30\n",
      "d    40\n",
      "dtype: int64\n"
     ]
    }
   ],
   "source": [
    "dict = {'a':10,'b':20,'c':30,'d':40} #Date şeklinde de elle alabiliriz.\n",
    "pandas_serias = pd.Series(dict)\n",
    "print(pandas_serias)"
   ]
  },
  {
   "cell_type": "code",
   "execution_count": 24,
   "metadata": {},
   "outputs": [
    {
     "name": "stdout",
     "output_type": "stream",
     "text": [
      "0    21\n",
      "1    75\n",
      "2    84\n",
      "3    80\n",
      "dtype: int64\n"
     ]
    }
   ],
   "source": [
    "import numpy as np\n",
    "random_numebrs = np.random.randint(10,100,4) #Rasgele üretilen sayılar pandas üzerinden data olarak  işleniyor.\n",
    "pandas_serias = pd.Series(random_numebrs)\n",
    "print(pandas_serias)"
   ]
  },
  {
   "cell_type": "code",
   "execution_count": 11,
   "metadata": {},
   "outputs": [
    {
     "name": "stdout",
     "output_type": "stream",
     "text": [
      "0    40\n",
      "1    60\n",
      "2    74\n",
      "3    51\n",
      "4    87\n",
      "dtype: int64\n"
     ]
    }
   ],
   "source": [
    "import numpy as np\n",
    "random_numbers = np.random.randint(10,100,5)\n",
    "pandas_serias = pd.Series(random_numbers)\n",
    "print(pandas_serias)"
   ]
  },
  {
   "cell_type": "code",
   "execution_count": 12,
   "metadata": {},
   "outputs": [
    {
     "name": "stdout",
     "output_type": "stream",
     "text": [
      "a    20\n",
      "b    30\n",
      "c    40\n",
      "d    50\n",
      "dtype: int64\n",
      "20\n"
     ]
    }
   ],
   "source": [
    "pandas_serias = pd.Series([20,30,40,50],['a','b','c','d',])\n",
    "result = pandas_serias[0] #Hangi elemana ulaşmak istiorsam onu yazıyorum.\n",
    "print(pandas_serias)\n",
    "print(result)"
   ]
  },
  {
   "cell_type": "code",
   "execution_count": 27,
   "metadata": {},
   "outputs": [
    {
     "name": "stdout",
     "output_type": "stream",
     "text": [
      "a    20\n",
      "b    30\n",
      "c    40\n",
      "dtype: int64\n"
     ]
    }
   ],
   "source": [
    "result = pandas_serias[['a','b','c']] #sadece belirli bir sizini elde etmek istiyorsn sıralı bir şekilde elde edebilirsin.\n",
    "print(result)"
   ]
  },
  {
   "cell_type": "code",
   "execution_count": 31,
   "metadata": {
    "scrolled": true
   },
   "outputs": [
    {
     "name": "stdout",
     "output_type": "stream",
     "text": [
      "1\n"
     ]
    }
   ],
   "source": [
    "result = pandas_serias.ndim\n",
    "print(result)"
   ]
  },
  {
   "cell_type": "code",
   "execution_count": 32,
   "metadata": {},
   "outputs": [
    {
     "name": "stdout",
     "output_type": "stream",
     "text": [
      "int64\n"
     ]
    }
   ],
   "source": [
    "result = pandas_serias.dtype\n",
    "print(result)"
   ]
  },
  {
   "cell_type": "code",
   "execution_count": 33,
   "metadata": {},
   "outputs": [
    {
     "name": "stdout",
     "output_type": "stream",
     "text": [
      "(4,)\n"
     ]
    }
   ],
   "source": [
    "result = pandas_serias.shape\n",
    "print(result)"
   ]
  },
  {
   "cell_type": "code",
   "execution_count": 34,
   "metadata": {},
   "outputs": [
    {
     "name": "stdout",
     "output_type": "stream",
     "text": [
      "140\n"
     ]
    }
   ],
   "source": [
    "result = pandas_serias.sum()\n",
    "print(result)"
   ]
  },
  {
   "cell_type": "code",
   "execution_count": 35,
   "metadata": {},
   "outputs": [
    {
     "name": "stdout",
     "output_type": "stream",
     "text": [
      "50\n"
     ]
    }
   ],
   "source": [
    "result = pandas_serias.max()\n",
    "print(result)"
   ]
  },
  {
   "cell_type": "code",
   "execution_count": 36,
   "metadata": {},
   "outputs": [
    {
     "name": "stdout",
     "output_type": "stream",
     "text": [
      "20\n"
     ]
    }
   ],
   "source": [
    "result = pandas_serias.min()\n",
    "print(result)"
   ]
  },
  {
   "cell_type": "code",
   "execution_count": 38,
   "metadata": {},
   "outputs": [
    {
     "name": "stdout",
     "output_type": "stream",
     "text": [
      "a     70\n",
      "b     80\n",
      "c     90\n",
      "d    100\n",
      "dtype: int64\n"
     ]
    }
   ],
   "source": [
    "result = pandas_serias + pandas_serias\n",
    "result= pandas_serias +50\n",
    "print(result)"
   ]
  },
  {
   "cell_type": "code",
   "execution_count": 39,
   "metadata": {},
   "outputs": [
    {
     "name": "stdout",
     "output_type": "stream",
     "text": [
      "a    4.472136\n",
      "b    5.477226\n",
      "c    6.324555\n",
      "d    7.071068\n",
      "dtype: float64\n"
     ]
    }
   ],
   "source": [
    "result = np.sqrt(pandas_serias) #Kare kök\n",
    "print(result)"
   ]
  },
  {
   "cell_type": "code",
   "execution_count": 40,
   "metadata": {},
   "outputs": [
    {
     "name": "stdout",
     "output_type": "stream",
     "text": [
      "a    False\n",
      "b    False\n",
      "c    False\n",
      "d     True\n",
      "dtype: bool\n"
     ]
    }
   ],
   "source": [
    "result = pandas_serias >=50 #Hangi sayıların 50 nin altına olduğunu kontrol etmek bu yöntem kullanılır.\n",
    "print(result)"
   ]
  },
  {
   "cell_type": "code",
   "execution_count": 41,
   "metadata": {},
   "outputs": [
    {
     "name": "stdout",
     "output_type": "stream",
     "text": [
      "a    True\n",
      "b    True\n",
      "c    True\n",
      "d    True\n",
      "dtype: bool\n"
     ]
    }
   ],
   "source": [
    "result = pandas_serias %5 ==0 # Mod almak için bu yöntem kullanılır\n",
    "print(result)"
   ]
  },
  {
   "cell_type": "code",
   "execution_count": 44,
   "metadata": {},
   "outputs": [
    {
     "name": "stdout",
     "output_type": "stream",
     "text": [
      "Astra      40\n",
      "Corsa      60\n",
      "Mokko      80\n",
      "İnstina    20\n",
      "dtype: int64\n",
      "40\n"
     ]
    }
   ],
   "source": [
    "opel2018= pd.Series([20,30,40,10],[\"Astra\",\"Corsa\",\"Mokko\",\"İnstina\"])\n",
    "opel2019= pd.Series([20,30,40,10],[\"Astra\",\"Corsa\",\"Mokko\",\"İnstina\"])\n",
    "\n",
    "total = opel2018+opel2019\n",
    "\n",
    "print(total)\n",
    "print(total[\"Astra\"])"
   ]
  },
  {
   "cell_type": "code",
   "execution_count": 15,
   "metadata": {},
   "outputs": [
    {
     "name": "stdout",
     "output_type": "stream",
     "text": [
      "Astra      40\n",
      "Corsa      60\n",
      "Mokko      80\n",
      "İstina    100\n",
      "dtype: int64\n",
      "40\n"
     ]
    }
   ],
   "source": [
    "opel2018=pd.Series([20,30,40,50],['Astra','Corsa','Mokko','İstina'])\n",
    "opel2019=pd.Series([20,30,40,50],['Astra','Corsa','Mokko','İstina'])\n",
    "\n",
    "total = opel2018 + opel2019\n",
    "\n",
    "print(total)\n",
    "print(total[\"Astra\"])"
   ]
  },
  {
   "cell_type": "code",
   "execution_count": 18,
   "metadata": {},
   "outputs": [
    {
     "name": "stdout",
     "output_type": "stream",
     "text": [
      "[3 2 0 1]\n"
     ]
    }
   ],
   "source": [
    "#Bir dizi küçükten büyüğe sıralndığında kaçıncı sırada olıcağını göstrerir.\n",
    "import numpy as np\n",
    "x =np.array([12,34,5,3])\n",
    "result= x.argsort()\n",
    "print(result)"
   ]
  },
  {
   "cell_type": "code",
   "execution_count": 20,
   "metadata": {},
   "outputs": [
    {
     "name": "stdout",
     "output_type": "stream",
     "text": [
      "[2 3]\n"
     ]
    }
   ],
   "source": [
    "# İki dizin arasında orak olanları seçmek için kullanılır.\n",
    "x= [1,2,3,4,5]\n",
    "y=[3,2,10,22,32]\n",
    "\n",
    "result= np.intersect1d(x,y)\n",
    "print(result)"
   ]
  },
  {
   "cell_type": "code",
   "execution_count": 21,
   "metadata": {},
   "outputs": [
    {
     "name": "stdout",
     "output_type": "stream",
     "text": [
      "[2 2 2 2 2 2 2 2]\n"
     ]
    }
   ],
   "source": [
    "#Tekrar eden sayıları çıkarmak içi kullanılır.\n",
    "result = np.repeat(2,8)\n",
    "print(result)"
   ]
  },
  {
   "cell_type": "code",
   "execution_count": null,
   "metadata": {},
   "outputs": [],
   "source": []
  }
 ],
 "metadata": {
  "kernelspec": {
   "display_name": "Python 3",
   "language": "python",
   "name": "python3"
  },
  "language_info": {
   "codemirror_mode": {
    "name": "ipython",
    "version": 3
   },
   "file_extension": ".py",
   "mimetype": "text/x-python",
   "name": "python",
   "nbconvert_exporter": "python",
   "pygments_lexer": "ipython3",
   "version": "3.8.5"
  }
 },
 "nbformat": 4,
 "nbformat_minor": 4
}
