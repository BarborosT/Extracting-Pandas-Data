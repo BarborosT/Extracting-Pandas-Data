{
 "cells": [
  {
   "cell_type": "code",
   "execution_count": 4,
   "metadata": {},
   "outputs": [
    {
     "name": "stdout",
     "output_type": "stream",
     "text": [
      "A    1.544996\n",
      "B   -2.291276\n",
      "C   -0.094271\n",
      "Name: Column1, dtype: float64\n"
     ]
    }
   ],
   "source": [
    "import pandas as pd\n",
    "\n",
    "from numpy.random import randn\n",
    "\n",
    "df = pd.DataFrame(randn(3,3), index = [\"A\",\"B\",\"C\"],columns=[\"Column1\",\"Column2\",\"Column3\"])\n",
    "result = df\n",
    "result = df[\"Column1\"]\n",
    "print(result)"
   ]
  },
  {
   "cell_type": "code",
   "execution_count": 5,
   "metadata": {},
   "outputs": [
    {
     "name": "stdout",
     "output_type": "stream",
     "text": [
      "<class 'pandas.core.series.Series'>\n"
     ]
    }
   ],
   "source": [
    "result = type(df[\"Column1\"])\n",
    "print(result)"
   ]
  },
  {
   "cell_type": "code",
   "execution_count": 6,
   "metadata": {},
   "outputs": [
    {
     "name": "stdout",
     "output_type": "stream",
     "text": [
      "    Column1   Column2\n",
      "A  1.544996  1.931312\n",
      "B -2.291276 -1.794902\n",
      "C -0.094271 -0.125483\n"
     ]
    }
   ],
   "source": [
    "result= df[[\"Column1\",\"Column2\"]]\n",
    "print(result)"
   ]
  },
  {
   "cell_type": "code",
   "execution_count": 7,
   "metadata": {},
   "outputs": [
    {
     "name": "stdout",
     "output_type": "stream",
     "text": [
      "Column1    1.544996\n",
      "Column2    1.931312\n",
      "Column3    0.231482\n",
      "Name: A, dtype: float64\n"
     ]
    }
   ],
   "source": [
    "result = df.loc[\"A\"]  #sadece a indexini elde eetmek istrsek\n",
    "print(result)"
   ]
  },
  {
   "cell_type": "code",
   "execution_count": 8,
   "metadata": {},
   "outputs": [
    {
     "name": "stdout",
     "output_type": "stream",
     "text": [
      "A    1.544996\n",
      "B   -2.291276\n",
      "C   -0.094271\n",
      "Name: Column1, dtype: float64\n"
     ]
    }
   ],
   "source": [
    "# loc[\"row\",\"column\"] => loc[\":\",\"column\"]\n",
    "result = df.loc[:,\"Column1\"]\n",
    "print(result)"
   ]
  },
  {
   "cell_type": "code",
   "execution_count": 9,
   "metadata": {},
   "outputs": [
    {
     "name": "stdout",
     "output_type": "stream",
     "text": [
      "    Column1   Column2   Column3\n",
      "A  1.544996  1.931312  0.231482\n",
      "B -2.291276 -1.794902  1.708848\n",
      "C -0.094271 -0.125483 -1.628708\n"
     ]
    }
   ],
   "source": [
    "result = df.loc[:,\"Column1\":\"Column3\"] #başı ve sonu belli olan sürünları almakistersek ne yapmalıyız.\n",
    "print(result)"
   ]
  },
  {
   "cell_type": "code",
   "execution_count": 10,
   "metadata": {},
   "outputs": [
    {
     "name": "stdout",
     "output_type": "stream",
     "text": [
      "    Column1   Column2\n",
      "A  1.544996  1.931312\n",
      "B -2.291276 -1.794902\n",
      "C -0.094271 -0.125483\n"
     ]
    }
   ],
   "source": [
    "result = df.loc[:,:\"Column2\"] #son alınacak sürünun colum 2 olması gerekiyorsa \n",
    "print(result)"
   ]
  },
  {
   "cell_type": "code",
   "execution_count": 11,
   "metadata": {},
   "outputs": [
    {
     "name": "stdout",
     "output_type": "stream",
     "text": [
      "Column1   -2.291276\n",
      "Column2   -1.794902\n",
      "Column3    1.708848\n",
      "Name: B, dtype: float64\n"
     ]
    }
   ],
   "source": [
    "result = df.loc['B'] #Bütün dizelerden sadece b sütünunu göster.\n",
    "print(result)"
   ]
  },
  {
   "cell_type": "code",
   "execution_count": 12,
   "metadata": {},
   "outputs": [
    {
     "name": "stdout",
     "output_type": "stream",
     "text": [
      "Column1   -2.291276\n",
      "Column2   -1.794902\n",
      "Column3    1.708848\n",
      "Name: B, dtype: float64\n"
     ]
    }
   ],
   "source": [
    "result = df.loc['B'] \n",
    "\n",
    "print(result)"
   ]
  },
  {
   "cell_type": "code",
   "execution_count": 13,
   "metadata": {},
   "outputs": [
    {
     "name": "stdout",
     "output_type": "stream",
     "text": [
      "Column1   -0.094271\n",
      "Column2   -0.125483\n",
      "Column3   -1.628708\n",
      "Name: C, dtype: float64\n"
     ]
    }
   ],
   "source": [
    "result = df.iloc[2] #İkinci indexe karşılık gelen satır sütün geliyor.\n",
    "\n",
    "print(result)"
   ]
  },
  {
   "cell_type": "code",
   "execution_count": 15,
   "metadata": {},
   "outputs": [
    {
     "name": "stdout",
     "output_type": "stream",
     "text": [
      "-0.09427136746276381\n"
     ]
    }
   ],
   "source": [
    "result = df.loc[\"A\",\"Column2\"] \n",
    "result = df.loc[\"B\",\"Column1\"] \n",
    "result = df.loc[\"C\",\"Column1\"] \n",
    "#result = df.loc[[\"A\",\"B\"],[\"Coulmn1\",\"Column2\"]]\n",
    "print(result)"
   ]
  },
  {
   "cell_type": "code",
   "execution_count": 17,
   "metadata": {
    "scrolled": true
   },
   "outputs": [
    {
     "name": "stdout",
     "output_type": "stream",
     "text": [
      "    Column1   Column2   Column3   Column4\n",
      "A  1.544996  1.931312  0.231482 -0.779629\n",
      "B -2.291276 -1.794902  1.708848 -1.028212\n",
      "C -0.094271 -0.125483 -1.628708  2.292308\n"
     ]
    }
   ],
   "source": [
    "df[\"Column4\"] = pd.Series(randn(3), [\"A\",\"B\",\"C\"]) # 4 tane kolon eklemek için kullanılır.\n",
    "print(df)"
   ]
  },
  {
   "cell_type": "code",
   "execution_count": 19,
   "metadata": {},
   "outputs": [
    {
     "name": "stdout",
     "output_type": "stream",
     "text": [
      "    Column1   Column2   Column3   Column4   Colomn5\n",
      "A  1.544996  1.931312  0.231482 -0.779629  1.776479\n",
      "B -2.291276 -1.794902  1.708848 -1.028212 -0.582429\n",
      "C -0.094271 -0.125483 -1.628708  2.292308 -1.722979\n"
     ]
    }
   ],
   "source": [
    "df[\"Colomn5\"] = df[\"Column1\"] + df[\"Column3\"] #colon 3 ilecolon1 toplayıp 5 e eklemek için kullanılır.\n",
    "print(df)"
   ]
  },
  {
   "cell_type": "code",
   "execution_count": 25,
   "metadata": {},
   "outputs": [
    {
     "name": "stdout",
     "output_type": "stream",
     "text": [
      "None\n",
      "    Column1   Column2   Column3   Column4\n",
      "A  1.544996  1.931312  0.231482 -0.779629\n",
      "B -2.291276 -1.794902  1.708848 -1.028212\n",
      "C -0.094271 -0.125483 -1.628708  2.292308\n"
     ]
    }
   ],
   "source": [
    "result=df.drop(\"Colomn5\",axis = 1, inplace=True)\n",
    "print(result)\n",
    "print(df)"
   ]
  },
  {
   "cell_type": "code",
   "execution_count": null,
   "metadata": {},
   "outputs": [],
   "source": []
  }
 ],
 "metadata": {
  "kernelspec": {
   "display_name": "Python 3",
   "language": "python",
   "name": "python3"
  },
  "language_info": {
   "codemirror_mode": {
    "name": "ipython",
    "version": 3
   },
   "file_extension": ".py",
   "mimetype": "text/x-python",
   "name": "python",
   "nbconvert_exporter": "python",
   "pygments_lexer": "ipython3",
   "version": "3.8.5"
  }
 },
 "nbformat": 4,
 "nbformat_minor": 4
}
