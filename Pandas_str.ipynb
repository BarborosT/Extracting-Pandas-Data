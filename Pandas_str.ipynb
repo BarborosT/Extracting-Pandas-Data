{
 "cells": [
  {
   "cell_type": "code",
   "execution_count": 1,
   "metadata": {},
   "outputs": [
    {
     "name": "stdout",
     "output_type": "stream",
     "text": [
      "                     name  year_start  year_end position height  weight  \\\n",
      "0          Alaa Abdelnaby        1991      1995      F-C   6-10   240.0   \n",
      "1         Zaid Abdul-Aziz        1969      1978      C-F    6-9   235.0   \n",
      "2     Kareem Abdul-Jabbar        1970      1989        C    7-2   225.0   \n",
      "3      Mahmoud Abdul-Rauf        1991      2001        G    6-1   162.0   \n",
      "4       Tariq Abdul-Wahad        1998      2003        F    6-6   223.0   \n",
      "...                   ...         ...       ...      ...    ...     ...   \n",
      "4542    Derrick Zimmerman        2006      2006        G    6-3   195.0   \n",
      "4543    Stephen Zimmerman        2017      2017        C    7-0   240.0   \n",
      "4546             Jim Zoet        1983      1983        C    7-1   240.0   \n",
      "4547            Bill Zopf        1971      1971        G    6-1   170.0   \n",
      "4549           Matt Zunic        1949      1949      G-F    6-3   195.0   \n",
      "\n",
      "             birth_date                                college  \n",
      "0         June 24, 1968                        Duke University  \n",
      "1         April 7, 1946                  Iowa State University  \n",
      "2        April 16, 1947  University of California, Los Angeles  \n",
      "3         March 9, 1969             Louisiana State University  \n",
      "4      November 3, 1974              San Jose State University  \n",
      "...                 ...                                    ...  \n",
      "4542   December 2, 1981           Mississippi State University  \n",
      "4543  September 9, 1996        University of Nevada, Las Vegas  \n",
      "4546  December 20, 1953                  Kent State University  \n",
      "4547       June 7, 1948                    Duquesne University  \n",
      "4549  December 19, 1919           George Washington University  \n",
      "\n",
      "[4213 rows x 8 columns]\n"
     ]
    }
   ],
   "source": [
    "import pandas as pd\n",
    "\n",
    "data = pd.read_csv(\"player_data.csv\")\n",
    "data.dropna(inplace = True)\n",
    "print(data)"
   ]
  },
  {
   "cell_type": "code",
   "execution_count": 39,
   "metadata": {},
   "outputs": [
    {
     "name": "stdout",
     "output_type": "stream",
     "text": [
      "Index(['name', 'year_start', 'year_end', 'position', 'height', 'weight',\n",
      "       'birth_date', 'college'],\n",
      "      dtype='object')\n"
     ]
    }
   ],
   "source": [
    "print(data.columns)"
   ]
  },
  {
   "cell_type": "code",
   "execution_count": 2,
   "metadata": {},
   "outputs": [
    {
     "name": "stdout",
     "output_type": "stream",
     "text": [
      "                   name  year_start  year_end position height  weight  \\\n",
      "0        alaa abdelnaby        1991      1995      F-C   6-10   240.0   \n",
      "1       zaid abdul-aziz        1969      1978      C-F    6-9   235.0   \n",
      "2   kareem abdul-jabbar        1970      1989        C    7-2   225.0   \n",
      "3    mahmoud abdul-rauf        1991      2001        G    6-1   162.0   \n",
      "4     tariq abdul-wahad        1998      2003        F    6-6   223.0   \n",
      "5   shareef abdur-rahim        1997      2008        F    6-9   225.0   \n",
      "6         tom abernethy        1977      1981        F    6-7   220.0   \n",
      "7           forest able        1957      1957        G    6-3   180.0   \n",
      "8        john abramovic        1947      1948        F    6-3   195.0   \n",
      "10           alex acker        2006      2009        G    6-5   185.0   \n",
      "\n",
      "           birth_date                                college  \n",
      "0       June 24, 1968                        Duke University  \n",
      "1       April 7, 1946                  Iowa State University  \n",
      "2      April 16, 1947  University of California, Los Angeles  \n",
      "3       March 9, 1969             Louisiana State University  \n",
      "4    November 3, 1974              San Jose State University  \n",
      "5   December 11, 1976               University of California  \n",
      "6         May 6, 1954                     Indiana University  \n",
      "7       July 27, 1932            Western Kentucky University  \n",
      "8    February 9, 1919         Salem International University  \n",
      "10   January 21, 1983                  Pepperdine University  \n"
     ]
    }
   ],
   "source": [
    "data[\"name\"]= data[\"name\"].str.upper()#Gelen bütün harfleri büyük harf yapar\n",
    "data[\"name\"]= data[\"name\"].str.lower()#Gelen bütün harlferi küçük harf yapar\n",
    "print(data.head(10))"
   ]
  },
  {
   "cell_type": "code",
   "execution_count": 3,
   "metadata": {},
   "outputs": [
    {
     "name": "stdout",
     "output_type": "stream",
     "text": [
      "             name  year_start  year_end position height  weight  \\\n",
      "0  alaa abdelnaby        1991      1995      F-C   6-10   240.0   \n",
      "\n",
      "      birth_date          college  \n",
      "0  June 24, 1968  Duke University  \n"
     ]
    }
   ],
   "source": [
    "#data[\"index\"] =data[\"name\"].str.find('a')\n",
    "data = data[data.name.str.contains('alaa')] # alaa ismi geçen herkesi liste halinde göstericek\n",
    "print(data)"
   ]
  },
  {
   "cell_type": "code",
   "execution_count": 4,
   "metadata": {},
   "outputs": [
    {
     "name": "stdout",
     "output_type": "stream",
     "text": [
      "0    6/10\n",
      "Name: height, dtype: object\n"
     ]
    },
    {
     "name": "stderr",
     "output_type": "stream",
     "text": [
      "/var/folders/tn/0kn0h9c50d12x3sx_v0jg89w0000gn/T/ipykernel_2338/4247886085.py:1: FutureWarning: The default value of regex will change from True to False in a future version. In addition, single character regular expressions will *not* be treated as literal strings when regex=True.\n",
      "  data = data.height.str.replace('-','/').str.replace('*','-')\n"
     ]
    }
   ],
   "source": [
    "data = data.height.str.replace('-','/').str.replace('*','-')\n",
    "print(data)"
   ]
  },
  {
   "cell_type": "code",
   "execution_count": null,
   "metadata": {},
   "outputs": [],
   "source": []
  },
  {
   "cell_type": "code",
   "execution_count": null,
   "metadata": {},
   "outputs": [],
   "source": []
  }
 ],
 "metadata": {
  "kernelspec": {
   "display_name": "Python 3",
   "language": "python",
   "name": "python3"
  },
  "language_info": {
   "codemirror_mode": {
    "name": "ipython",
    "version": 3
   },
   "file_extension": ".py",
   "mimetype": "text/x-python",
   "name": "python",
   "nbconvert_exporter": "python",
   "pygments_lexer": "ipython3",
   "version": "3.9.10"
  }
 },
 "nbformat": 4,
 "nbformat_minor": 4
}
